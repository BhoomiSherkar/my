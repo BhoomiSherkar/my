{
  "nbformat": 4,
  "nbformat_minor": 0,
  "metadata": {
    "colab": {
      "provenance": [],
      "authorship_tag": "ABX9TyPPohkC6TmtwLjxX+h3qSYI",
      "include_colab_link": true
    },
    "kernelspec": {
      "name": "python3",
      "display_name": "Python 3"
    },
    "language_info": {
      "name": "python"
    }
  },
  "cells": [
    {
      "cell_type": "markdown",
      "metadata": {
        "id": "view-in-github",
        "colab_type": "text"
      },
      "source": [
        "<a href=\"https://colab.research.google.com/github/BhoomiSherkar/my/blob/main/exp1_py.ipynb\" target=\"_parent\"><img src=\"https://colab.research.google.com/assets/colab-badge.svg\" alt=\"Open In Colab\"/></a>"
      ]
    },
    {
      "cell_type": "code",
      "execution_count": null,
      "metadata": {
        "colab": {
          "base_uri": "https://localhost:8080/"
        },
        "id": "QT0TFadYLLyF",
        "outputId": "864a3f7d-1740-449f-ae7b-b8f72c4420ec"
      },
      "outputs": [
        {
          "output_type": "stream",
          "name": "stdout",
          "text": [
            "My name is Bhoomi\n"
          ]
        }
      ],
      "source": [
        "#String\n",
        "name = \"Bhoomi\"\n",
        "print(\"My name is \" + name)"
      ]
    },
    {
      "cell_type": "code",
      "source": [
        "#List\n",
        "fruits = [\"mango\", \"apple\",\"banana\"]\n",
        "print(fruits)"
      ],
      "metadata": {
        "colab": {
          "base_uri": "https://localhost:8080/"
        },
        "id": "m7BG0YzULP8d",
        "outputId": "ba3fd263-30c0-4675-f07e-cb3585646eb6"
      },
      "execution_count": null,
      "outputs": [
        {
          "output_type": "stream",
          "name": "stdout",
          "text": [
            "['mango', 'apple', 'banana']\n"
          ]
        }
      ]
    },
    {
      "cell_type": "code",
      "source": [
        "#Directory\n",
        "identity = {\"name\":\"Bhoomi\",\"age\":19 , \"branch\": \"cse(ds)\" , \"year\": \"second\"}\n",
        "print(identity)"
      ],
      "metadata": {
        "colab": {
          "base_uri": "https://localhost:8080/"
        },
        "id": "-swKZNZWLYUC",
        "outputId": "e7472acb-f588-4fa9-bf41-718768eb22d5"
      },
      "execution_count": null,
      "outputs": [
        {
          "output_type": "stream",
          "name": "stdout",
          "text": [
            "{'name': 'Bhoomi', 'age': 19, 'branch': 'cse(ds)', 'year': 'second'}\n"
          ]
        }
      ]
    },
    {
      "cell_type": "code",
      "source": [
        "#tuple\n",
        "num = (1,2,3,4,5,6,7)\n",
        "print(num)"
      ],
      "metadata": {
        "id": "wjAWxepNLdHa"
      },
      "execution_count": null,
      "outputs": []
    },
    {
      "cell_type": "code",
      "source": [],
      "metadata": {
        "id": "KwIwj-tOOQzm"
      },
      "execution_count": null,
      "outputs": []
    }
  ]
}